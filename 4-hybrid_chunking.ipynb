{
 "cells": [
  {
   "cell_type": "markdown",
   "id": "f0991ca6",
   "metadata": {},
   "source": [
    "# Hybrid Chunking with Docling\n",
    "\n",
    "Hybrid chunking applies tokenization-aware refinements on top of document-based hierarchical chunking.\n",
    "\n",
    "For more details, see the [Docling HybridChunker docs](https://github.com/openai/docling#hybrid-chunking)."
   ]
  },
  {
   "cell_type": "markdown",
   "id": "db5bf7ea",
   "metadata": {},
   "source": [
    "## Setup\n",
    "\n",
    "Install the required packages:"
   ]
  },
  {
   "cell_type": "code",
   "execution_count": null,
   "id": "f66963cd",
   "metadata": {},
   "outputs": [],
   "source": [
    "!pip install -qU docling transformers\n",
    "# You may need to restart the kernel after installation."
   ]
  },
  {
   "cell_type": "markdown",
   "id": "62e39aaf",
   "metadata": {},
   "source": [
    "## Conversion\n",
    "\n",
    "Convert the PDF `AR_2020_WEB2.pdf` into a Docling document:"
   ]
  },
  {
   "cell_type": "code",
   "execution_count": 4,
   "id": "1cfa9fc5",
   "metadata": {},
   "outputs": [
    {
     "name": "stderr",
     "output_type": "stream",
     "text": [
      "INFO:docling.document_converter:Going to convert document batch...\n",
      "INFO:docling.document_converter:Initializing pipeline for StandardPdfPipeline with options hash 70041f74270850b7bedf7c8f5c2dcede\n",
      "INFO:docling.utils.accelerator_utils:Accelerator device: 'mps'\n",
      "INFO:docling.utils.accelerator_utils:Accelerator device: 'mps'\n",
      "INFO:docling.utils.accelerator_utils:Accelerator device: 'mps'\n",
      "INFO:docling.pipeline.base_pipeline:Processing document AR_2020_WEB2.pdf\n",
      "INFO:docling.document_converter:Finished converting document AR_2020_WEB2.pdf in 10.23 sec.\n",
      "INFO:__main__:Conversion complete.\n"
     ]
    }
   ],
   "source": [
    "import logging\n",
    "from pathlib import Path\n",
    "from docling.document_converter import DocumentConverter\n",
    "\n",
    "# Setup logging\n",
    "logging.basicConfig(level=logging.INFO)\n",
    "logger = logging.getLogger(__name__)\n",
    "\n",
    "# Path to your PDF in the tests folder\n",
    "pdf_path = Path(\"tests/AR_2020_WEB2.pdf\")\n",
    "\n",
    "# Convert to a Docling document\n",
    "converter = DocumentConverter()\n",
    "doc = converter.convert(source=pdf_path).document\n",
    "logger.info(\"Conversion complete.\")"
   ]
  },
  {
   "cell_type": "markdown",
   "id": "5524d315",
   "metadata": {},
   "source": [
    "## Hybrid Chunking\n",
    "\n",
    "Perform hybrid chunking on the converted document:"
   ]
  },
  {
   "cell_type": "code",
   "execution_count": 6,
   "id": "e4e8269a",
   "metadata": {},
   "outputs": [
    {
     "name": "stderr",
     "output_type": "stream",
     "text": [
      "Token indices sequence length is longer than the specified maximum sequence length for this model (681 > 512). Running this sequence through the model will result in indexing errors\n"
     ]
    },
    {
     "name": "stdout",
     "output_type": "stream",
     "text": [
      "=== 0 ===\n",
      "chunk.text:\n",
      "bridging the gap between poverty and prosperity…\n",
      "chunker.serialize(chunk):\n",
      "bridging the gap between poverty and prosperity…\n",
      "\n",
      "=== 1 ===\n",
      "chunk.text:\n",
      "No one could have predicted the events of 2020. The global COVID-19 pandemic created a dynamic year. With the help of volunteers, donors, staff, and most importantly, the blessings of God, Midwest Food Bank responded nimbly to the changing landscape.\n",
      "All  MFB  locations  remained  open  and  respons…\n",
      "chunker.serialize(chunk):\n",
      "A message from Co-Founder, President, and CEO, David Kieser\n",
      "No one could have predicted the events of 2020. The global COVID-19 pandemic created a dynamic year. With the help of volunteers, donors, staff, and most importantly, the blessings of God, Midwest Food Bank responded nimbly to the changing …\n",
      "\n",
      "=== 2 ===\n",
      "chunk.text:\n",
      "• MFB distributed a record amount of food, 37% more than in 2019.\n",
      "· In 2020, we sent a record number of family food boxes in Disaster Relief semi loads, nearly six times more than the previous year.\n",
      "·  We  received  record  levels  of  support  from  both  financial  and food donors.\n",
      "· While maintai…\n",
      "chunker.serialize(chunk):\n",
      "Noteworthy in 2020:\n",
      "• MFB distributed a record amount of food, 37% more than in 2019.\n",
      "· In 2020, we sent a record number of family food boxes in Disaster Relief semi loads, nearly six times more than the previous year.\n",
      "·  We  received  record  levels  of  support  from  both  financial  and food don…\n",
      "\n",
      "=== 3 ===\n",
      "chunk.text:\n",
      "MISSION & VALUES..........................., 1 = 4. FOOD INSECURITY............................, 1 = 5. FINANCIALS....................................., 1 = 7. MFB PROGRAMS..............................., 1 = 8. MFB REACH, 1 = .................................... 10. INTERNATIONAL OPERATIONS .......…\n",
      "chunker.serialize(chunk):\n",
      "CONTENTS\n",
      "MISSION & VALUES..........................., 1 = 4. FOOD INSECURITY............................, 1 = 5. FINANCIALS....................................., 1 = 7. MFB PROGRAMS..............................., 1 = 8. MFB REACH, 1 = .................................... 10. INTERNATIONAL OPERATION…\n",
      "\n",
      "=== 4 ===\n",
      "chunk.text:\n",
      "As a faith based organization, it is the mission of Midwest Food Bank to share the love of Christ by alleviating hunger and  malnutrition  locally  and  throughout  the  world  and providing disaster relief, all without discrimination.…\n",
      "chunker.serialize(chunk):\n",
      "OUR MISSION\n",
      "As a faith based organization, it is the mission of Midwest Food Bank to share the love of Christ by alleviating hunger and  malnutrition  locally  and  throughout  the  world  and providing disaster relief, all without discrimination.…\n",
      "\n",
      "=== 5 ===\n",
      "chunk.text:\n",
      "Midwest  Food  Bank's  values  are  built  on  the  Biblical  base  of  the  'fruit  of the  spirit'  -  Love,  Joy,  Peace,  Patience,  Kindness,  Goodness,  Faithfulness, Gentleness,  Self-control.  Our  values  give  us  a  roadmap  to  'Sharing  the Blessings.'…\n",
      "chunker.serialize(chunk):\n",
      "OUR VALUES\n",
      "Midwest  Food  Bank's  values  are  built  on  the  Biblical  base  of  the  'fruit  of the  spirit'  -  Love,  Joy,  Peace,  Patience,  Kindness,  Goodness,  Faithfulness, Gentleness,  Self-control.  Our  values  give  us  a  roadmap  to  'Sharing  the Blessings.'…\n",
      "\n",
      "=== 6 ===\n",
      "chunk.text:\n",
      "We recognize and adapt to our agencies (food pantries, schools, soup kitchens, shelters) needs, providing them resources  to  help  them  best  solve  food  insecurity  for individuals and families.…\n",
      "chunker.serialize(chunk):\n",
      "SERVING THOSE IN NEED\n",
      "We recognize and adapt to our agencies (food pantries, schools, soup kitchens, shelters) needs, providing them resources  to  help  them  best  solve  food  insecurity  for individuals and families.…\n",
      "\n",
      "=== 7 ===\n",
      "chunk.text:\n",
      "Our volunteers find purpose in their efforts shared with MFB. Opportunities are made available for any age and array of abilities. The countless hours and expertise of our volunteers is a unique and blessed differentiator.…\n",
      "chunker.serialize(chunk):\n",
      "EMPOWERING VOLUNTEERS\n",
      "Our volunteers find purpose in their efforts shared with MFB. Opportunities are made available for any age and array of abilities. The countless hours and expertise of our volunteers is a unique and blessed differentiator.…\n",
      "\n",
      "=== 8 ===\n",
      "chunk.text:\n",
      "We warmly welcome community members and partners, engage with them to serve those in need, and sincerely appreciate the joint partnerships we have.…\n",
      "chunker.serialize(chunk):\n",
      "EMBRACING OUR COMMUNITIES\n",
      "We warmly welcome community members and partners, engage with them to serve those in need, and sincerely appreciate the joint partnerships we have.…\n",
      "\n",
      "=== 9 ===\n",
      "chunk.text:\n",
      "Our communications and actions are always done with honesty and transparency.…\n",
      "chunker.serialize(chunk):\n",
      "WORKING WITH INTEGRITY\n",
      "Our communications and actions are always done with honesty and transparency.…\n",
      "\n"
     ]
    },
    {
     "name": "stderr",
     "output_type": "stream",
     "text": [
      "/var/folders/tm/pv6p3xts6kvclz7nvwjw63hr0000gn/T/ipykernel_66767/1768922322.py:15: DeprecationWarning: Use contextualize() instead.\n",
      "  enriched_text = chunker.serialize(chunk)\n"
     ]
    }
   ],
   "source": [
    "from docling.chunking import HybridChunker\n",
    "\n",
    "# Instantiate the chunker\n",
    "chunker = HybridChunker()\n",
    "\n",
    "# Generate chunks (this may emit a harmless tokenization warning)\n",
    "chunk_iter = chunker.chunk(dl_doc=doc)\n",
    "\n",
    "# Inspect and serialize the first few chunks\n",
    "for i, chunk in enumerate(chunk_iter):\n",
    "    if i >= 10:\n",
    "        break\n",
    "    print(f\"=== {i} ===\")\n",
    "    print(f\"chunk.text:\\n{chunk.text[:300]}…\")\n",
    "    enriched_text = chunker.serialize(chunk)\n",
    "    print(f\"chunker.serialize(chunk):\\n{enriched_text[:300]}…\\n\")"
   ]
  }
 ],
 "metadata": {
  "kernelspec": {
   "display_name": "Python 3",
   "language": "python",
   "name": "python3"
  },
  "language_info": {
   "codemirror_mode": {
    "name": "ipython",
    "version": 3
   },
   "file_extension": ".py",
   "mimetype": "text/x-python",
   "name": "python",
   "nbconvert_exporter": "python",
   "pygments_lexer": "ipython3",
   "version": "3.11.9"
  }
 },
 "nbformat": 4,
 "nbformat_minor": 5
}
