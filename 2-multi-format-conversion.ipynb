{
 "cells": [
  {
   "cell_type": "markdown",
   "id": "ddc82be2",
   "metadata": {},
   "source": [
    "# Multi-format Conversion with Docling"
   ]
  },
  {
   "cell_type": "code",
   "execution_count": 1,
   "id": "64896bdc",
   "metadata": {
    "execution": {
     "iopub.execute_input": "2025-09-24T21:19:56.068096Z",
     "iopub.status.busy": "2025-09-24T21:19:56.067989Z",
     "iopub.status.idle": "2025-09-24T21:19:56.898749Z",
     "shell.execute_reply": "2025-09-24T21:19:56.898310Z"
    }
   },
   "outputs": [
    {
     "name": "stdout",
     "output_type": "stream",
     "text": [
      "Requirement already satisfied: docling in ./venv/lib/python3.13/site-packages (2.54.0)\r\n",
      "Requirement already satisfied: pypdfium2 in ./venv/lib/python3.13/site-packages (4.30.0)\r\n",
      "Requirement already satisfied: pyyaml in ./venv/lib/python3.13/site-packages (6.0.2)\r\n",
      "Requirement already satisfied: pydantic<3.0.0,>=2.0.0 in ./venv/lib/python3.13/site-packages (from docling) (2.11.9)\r\n",
      "Requirement already satisfied: docling-core<3.0.0,>=2.48.2 in ./venv/lib/python3.13/site-packages (from docling-core[chunking]<3.0.0,>=2.48.2->docling) (2.48.2)\r\n",
      "Requirement already satisfied: docling-parse<5.0.0,>=4.4.0 in ./venv/lib/python3.13/site-packages (from docling) (4.5.0)\r\n",
      "Requirement already satisfied: docling-ibm-models<4,>=3.9.1 in ./venv/lib/python3.13/site-packages (from docling) (3.9.1)\r\n",
      "Requirement already satisfied: filetype<2.0.0,>=1.2.0 in ./venv/lib/python3.13/site-packages (from docling) (1.2.0)\r\n",
      "Requirement already satisfied: pydantic-settings<3.0.0,>=2.3.0 in ./venv/lib/python3.13/site-packages (from docling) (2.11.0)\r\n",
      "Requirement already satisfied: huggingface_hub<1,>=0.23 in ./venv/lib/python3.13/site-packages (from docling) (0.35.1)\r\n",
      "Requirement already satisfied: requests<3.0.0,>=2.32.2 in ./venv/lib/python3.13/site-packages (from docling) (2.32.5)\r\n",
      "Requirement already satisfied: easyocr<2.0,>=1.7 in ./venv/lib/python3.13/site-packages (from docling) (1.7.2)\r\n",
      "Requirement already satisfied: certifi>=2024.7.4 in ./venv/lib/python3.13/site-packages (from docling) (2025.8.3)\r\n",
      "Requirement already satisfied: rtree<2.0.0,>=1.3.0 in ./venv/lib/python3.13/site-packages (from docling) (1.4.1)\r\n",
      "Requirement already satisfied: typer<0.17.0,>=0.12.5 in ./venv/lib/python3.13/site-packages (from docling) (0.16.1)\r\n",
      "Requirement already satisfied: python-docx<2.0.0,>=1.1.2 in ./venv/lib/python3.13/site-packages (from docling) (1.2.0)\r\n",
      "Requirement already satisfied: python-pptx<2.0.0,>=1.0.2 in ./venv/lib/python3.13/site-packages (from docling) (1.0.2)\r\n",
      "Requirement already satisfied: beautifulsoup4<5.0.0,>=4.12.3 in ./venv/lib/python3.13/site-packages (from docling) (4.13.5)\r\n",
      "Requirement already satisfied: pandas<3.0.0,>=2.1.4 in ./venv/lib/python3.13/site-packages (from docling) (2.3.2)\r\n",
      "Requirement already satisfied: marko<3.0.0,>=2.1.2 in ./venv/lib/python3.13/site-packages (from docling) (2.2.0)\r\n",
      "Requirement already satisfied: openpyxl<4.0.0,>=3.1.5 in ./venv/lib/python3.13/site-packages (from docling) (3.1.5)\r\n",
      "Requirement already satisfied: lxml<6.0.0,>=4.0.0 in ./venv/lib/python3.13/site-packages (from docling) (5.4.0)\r\n",
      "Requirement already satisfied: pillow<12.0.0,>=10.0.0 in ./venv/lib/python3.13/site-packages (from docling) (11.3.0)\r\n",
      "Requirement already satisfied: tqdm<5.0.0,>=4.65.0 in ./venv/lib/python3.13/site-packages (from docling) (4.67.1)\r\n",
      "Requirement already satisfied: pluggy<2.0.0,>=1.0.0 in ./venv/lib/python3.13/site-packages (from docling) (1.6.0)\r\n",
      "Requirement already satisfied: pylatexenc<3.0,>=2.10 in ./venv/lib/python3.13/site-packages (from docling) (2.10)\r\n",
      "Requirement already satisfied: scipy<2.0.0,>=1.6.0 in ./venv/lib/python3.13/site-packages (from docling) (1.16.2)\r\n",
      "Requirement already satisfied: accelerate<2,>=1.0.0 in ./venv/lib/python3.13/site-packages (from docling) (1.10.1)\r\n",
      "Requirement already satisfied: polyfactory>=2.22.2 in ./venv/lib/python3.13/site-packages (from docling) (2.22.2)\r\n",
      "Requirement already satisfied: numpy<3.0.0,>=1.17 in ./venv/lib/python3.13/site-packages (from accelerate<2,>=1.0.0->docling) (2.2.6)\r\n",
      "Requirement already satisfied: packaging>=20.0 in ./venv/lib/python3.13/site-packages (from accelerate<2,>=1.0.0->docling) (25.0)\r\n",
      "Requirement already satisfied: psutil in ./venv/lib/python3.13/site-packages (from accelerate<2,>=1.0.0->docling) (7.1.0)\r\n",
      "Requirement already satisfied: torch>=2.0.0 in ./venv/lib/python3.13/site-packages (from accelerate<2,>=1.0.0->docling) (2.8.0)\r\n",
      "Requirement already satisfied: safetensors>=0.4.3 in ./venv/lib/python3.13/site-packages (from accelerate<2,>=1.0.0->docling) (0.6.2)\r\n",
      "Requirement already satisfied: soupsieve>1.2 in ./venv/lib/python3.13/site-packages (from beautifulsoup4<5.0.0,>=4.12.3->docling) (2.8)\r\n",
      "Requirement already satisfied: typing-extensions>=4.0.0 in ./venv/lib/python3.13/site-packages (from beautifulsoup4<5.0.0,>=4.12.3->docling) (4.15.0)\r\n",
      "Requirement already satisfied: jsonschema<5.0.0,>=4.16.0 in ./venv/lib/python3.13/site-packages (from docling-core<3.0.0,>=2.48.2->docling-core[chunking]<3.0.0,>=2.48.2->docling) (4.25.1)\r\n",
      "Requirement already satisfied: jsonref<2.0.0,>=1.1.0 in ./venv/lib/python3.13/site-packages (from docling-core<3.0.0,>=2.48.2->docling-core[chunking]<3.0.0,>=2.48.2->docling) (1.1.0)\r\n",
      "Requirement already satisfied: tabulate<0.10.0,>=0.9.0 in ./venv/lib/python3.13/site-packages (from docling-core<3.0.0,>=2.48.2->docling-core[chunking]<3.0.0,>=2.48.2->docling) (0.9.0)\r\n",
      "Requirement already satisfied: latex2mathml<4.0.0,>=3.77.0 in ./venv/lib/python3.13/site-packages (from docling-core<3.0.0,>=2.48.2->docling-core[chunking]<3.0.0,>=2.48.2->docling) (3.78.1)\r\n",
      "Requirement already satisfied: semchunk<3.0.0,>=2.2.0 in ./venv/lib/python3.13/site-packages (from docling-core[chunking]<3.0.0,>=2.48.2->docling) (2.2.2)\r\n",
      "Requirement already satisfied: transformers<5.0.0,>=4.34.0 in ./venv/lib/python3.13/site-packages (from docling-core[chunking]<3.0.0,>=2.48.2->docling) (4.56.2)\r\n",
      "Requirement already satisfied: torchvision<1,>=0 in ./venv/lib/python3.13/site-packages (from docling-ibm-models<4,>=3.9.1->docling) (0.23.0)\r\n",
      "Requirement already satisfied: jsonlines<4.0.0,>=3.1.0 in ./venv/lib/python3.13/site-packages (from docling-ibm-models<4,>=3.9.1->docling) (3.1.0)\r\n",
      "Requirement already satisfied: opencv-python-headless<5.0.0.0,>=4.6.0.66 in ./venv/lib/python3.13/site-packages (from docling-ibm-models<4,>=3.9.1->docling) (4.12.0.88)\r\n",
      "Requirement already satisfied: scikit-image in ./venv/lib/python3.13/site-packages (from easyocr<2.0,>=1.7->docling) (0.25.2)\r\n",
      "Requirement already satisfied: python-bidi in ./venv/lib/python3.13/site-packages (from easyocr<2.0,>=1.7->docling) (0.6.6)\r\n",
      "Requirement already satisfied: Shapely in ./venv/lib/python3.13/site-packages (from easyocr<2.0,>=1.7->docling) (2.1.2)\r\n",
      "Requirement already satisfied: pyclipper in ./venv/lib/python3.13/site-packages (from easyocr<2.0,>=1.7->docling) (1.3.0.post6)\r\n",
      "Requirement already satisfied: ninja in ./venv/lib/python3.13/site-packages (from easyocr<2.0,>=1.7->docling) (1.13.0)\r\n",
      "Requirement already satisfied: filelock in ./venv/lib/python3.13/site-packages (from huggingface_hub<1,>=0.23->docling) (3.19.1)\r\n",
      "Requirement already satisfied: fsspec>=2023.5.0 in ./venv/lib/python3.13/site-packages (from huggingface_hub<1,>=0.23->docling) (2025.9.0)\r\n",
      "Requirement already satisfied: hf-xet<2.0.0,>=1.1.3 in ./venv/lib/python3.13/site-packages (from huggingface_hub<1,>=0.23->docling) (1.1.10)\r\n"
     ]
    },
    {
     "name": "stdout",
     "output_type": "stream",
     "text": [
      "Requirement already satisfied: attrs>=19.2.0 in ./venv/lib/python3.13/site-packages (from jsonlines<4.0.0,>=3.1.0->docling-ibm-models<4,>=3.9.1->docling) (25.3.0)\r\n",
      "Requirement already satisfied: jsonschema-specifications>=2023.03.6 in ./venv/lib/python3.13/site-packages (from jsonschema<5.0.0,>=4.16.0->docling-core<3.0.0,>=2.48.2->docling-core[chunking]<3.0.0,>=2.48.2->docling) (2025.9.1)\r\n",
      "Requirement already satisfied: referencing>=0.28.4 in ./venv/lib/python3.13/site-packages (from jsonschema<5.0.0,>=4.16.0->docling-core<3.0.0,>=2.48.2->docling-core[chunking]<3.0.0,>=2.48.2->docling) (0.36.2)\r\n",
      "Requirement already satisfied: rpds-py>=0.7.1 in ./venv/lib/python3.13/site-packages (from jsonschema<5.0.0,>=4.16.0->docling-core<3.0.0,>=2.48.2->docling-core[chunking]<3.0.0,>=2.48.2->docling) (0.27.1)\r\n",
      "Requirement already satisfied: et-xmlfile in ./venv/lib/python3.13/site-packages (from openpyxl<4.0.0,>=3.1.5->docling) (2.0.0)\r\n",
      "Requirement already satisfied: python-dateutil>=2.8.2 in ./venv/lib/python3.13/site-packages (from pandas<3.0.0,>=2.1.4->docling) (2.9.0.post0)\r\n",
      "Requirement already satisfied: pytz>=2020.1 in ./venv/lib/python3.13/site-packages (from pandas<3.0.0,>=2.1.4->docling) (2025.2)\r\n",
      "Requirement already satisfied: tzdata>=2022.7 in ./venv/lib/python3.13/site-packages (from pandas<3.0.0,>=2.1.4->docling) (2025.2)\r\n",
      "Requirement already satisfied: annotated-types>=0.6.0 in ./venv/lib/python3.13/site-packages (from pydantic<3.0.0,>=2.0.0->docling) (0.7.0)\r\n",
      "Requirement already satisfied: pydantic-core==2.33.2 in ./venv/lib/python3.13/site-packages (from pydantic<3.0.0,>=2.0.0->docling) (2.33.2)\r\n",
      "Requirement already satisfied: typing-inspection>=0.4.0 in ./venv/lib/python3.13/site-packages (from pydantic<3.0.0,>=2.0.0->docling) (0.4.1)\r\n",
      "Requirement already satisfied: python-dotenv>=0.21.0 in ./venv/lib/python3.13/site-packages (from pydantic-settings<3.0.0,>=2.3.0->docling) (1.1.1)\r\n",
      "Requirement already satisfied: XlsxWriter>=0.5.7 in ./venv/lib/python3.13/site-packages (from python-pptx<2.0.0,>=1.0.2->docling) (3.2.9)\r\n",
      "Requirement already satisfied: charset_normalizer<4,>=2 in ./venv/lib/python3.13/site-packages (from requests<3.0.0,>=2.32.2->docling) (3.4.3)\r\n",
      "Requirement already satisfied: idna<4,>=2.5 in ./venv/lib/python3.13/site-packages (from requests<3.0.0,>=2.32.2->docling) (3.10)\r\n",
      "Requirement already satisfied: urllib3<3,>=1.21.1 in ./venv/lib/python3.13/site-packages (from requests<3.0.0,>=2.32.2->docling) (2.5.0)\r\n",
      "Requirement already satisfied: mpire[dill] in ./venv/lib/python3.13/site-packages (from semchunk<3.0.0,>=2.2.0->docling-core[chunking]<3.0.0,>=2.48.2->docling) (2.10.2)\r\n"
     ]
    },
    {
     "name": "stdout",
     "output_type": "stream",
     "text": [
      "Requirement already satisfied: setuptools in ./venv/lib/python3.13/site-packages (from torch>=2.0.0->accelerate<2,>=1.0.0->docling) (80.9.0)\r\n",
      "Requirement already satisfied: sympy>=1.13.3 in ./venv/lib/python3.13/site-packages (from torch>=2.0.0->accelerate<2,>=1.0.0->docling) (1.14.0)\r\n",
      "Requirement already satisfied: networkx in ./venv/lib/python3.13/site-packages (from torch>=2.0.0->accelerate<2,>=1.0.0->docling) (3.5)\r\n",
      "Requirement already satisfied: jinja2 in ./venv/lib/python3.13/site-packages (from torch>=2.0.0->accelerate<2,>=1.0.0->docling) (3.1.6)\r\n",
      "Requirement already satisfied: regex!=2019.12.17 in ./venv/lib/python3.13/site-packages (from transformers<5.0.0,>=4.34.0->docling-core[chunking]<3.0.0,>=2.48.2->docling) (2025.9.18)\r\n",
      "Requirement already satisfied: tokenizers<=0.23.0,>=0.22.0 in ./venv/lib/python3.13/site-packages (from transformers<5.0.0,>=4.34.0->docling-core[chunking]<3.0.0,>=2.48.2->docling) (0.22.1)\r\n",
      "Requirement already satisfied: click>=8.0.0 in ./venv/lib/python3.13/site-packages (from typer<0.17.0,>=0.12.5->docling) (8.3.0)\r\n",
      "Requirement already satisfied: shellingham>=1.3.0 in ./venv/lib/python3.13/site-packages (from typer<0.17.0,>=0.12.5->docling) (1.5.4)\r\n",
      "Requirement already satisfied: rich>=10.11.0 in ./venv/lib/python3.13/site-packages (from typer<0.17.0,>=0.12.5->docling) (14.1.0)\r\n",
      "Requirement already satisfied: faker>=5.0.0 in ./venv/lib/python3.13/site-packages (from polyfactory>=2.22.2->docling) (37.8.0)\r\n",
      "Requirement already satisfied: six>=1.5 in ./venv/lib/python3.13/site-packages (from python-dateutil>=2.8.2->pandas<3.0.0,>=2.1.4->docling) (1.17.0)\r\n"
     ]
    },
    {
     "name": "stdout",
     "output_type": "stream",
     "text": [
      "Requirement already satisfied: markdown-it-py>=2.2.0 in ./venv/lib/python3.13/site-packages (from rich>=10.11.0->typer<0.17.0,>=0.12.5->docling) (4.0.0)\r\n",
      "Requirement already satisfied: pygments<3.0.0,>=2.13.0 in ./venv/lib/python3.13/site-packages (from rich>=10.11.0->typer<0.17.0,>=0.12.5->docling) (2.19.2)\r\n",
      "Requirement already satisfied: mdurl~=0.1 in ./venv/lib/python3.13/site-packages (from markdown-it-py>=2.2.0->rich>=10.11.0->typer<0.17.0,>=0.12.5->docling) (0.1.2)\r\n",
      "Requirement already satisfied: mpmath<1.4,>=1.1.0 in ./venv/lib/python3.13/site-packages (from sympy>=1.13.3->torch>=2.0.0->accelerate<2,>=1.0.0->docling) (1.3.0)\r\n",
      "Requirement already satisfied: MarkupSafe>=2.0 in ./venv/lib/python3.13/site-packages (from jinja2->torch>=2.0.0->accelerate<2,>=1.0.0->docling) (3.0.2)\r\n",
      "Requirement already satisfied: multiprocess>=0.70.15 in ./venv/lib/python3.13/site-packages (from mpire[dill]->semchunk<3.0.0,>=2.2.0->docling-core[chunking]<3.0.0,>=2.48.2->docling) (0.70.18)\r\n",
      "Requirement already satisfied: dill>=0.4.0 in ./venv/lib/python3.13/site-packages (from multiprocess>=0.70.15->mpire[dill]->semchunk<3.0.0,>=2.2.0->docling-core[chunking]<3.0.0,>=2.48.2->docling) (0.4.0)\r\n",
      "Requirement already satisfied: imageio!=2.35.0,>=2.33 in ./venv/lib/python3.13/site-packages (from scikit-image->easyocr<2.0,>=1.7->docling) (2.37.0)\r\n",
      "Requirement already satisfied: tifffile>=2022.8.12 in ./venv/lib/python3.13/site-packages (from scikit-image->easyocr<2.0,>=1.7->docling) (2025.9.20)\r\n",
      "Requirement already satisfied: lazy-loader>=0.4 in ./venv/lib/python3.13/site-packages (from scikit-image->easyocr<2.0,>=1.7->docling) (0.4)\r\n"
     ]
    }
   ],
   "source": [
    "# Install required libraries\n",
    "!pip install docling pypdfium2 pyyaml"
   ]
  },
  {
   "cell_type": "code",
   "execution_count": 2,
   "id": "1f32d208",
   "metadata": {
    "execution": {
     "iopub.execute_input": "2025-09-24T21:19:56.900599Z",
     "iopub.status.busy": "2025-09-24T21:19:56.900466Z",
     "iopub.status.idle": "2025-09-24T21:20:25.184559Z",
     "shell.execute_reply": "2025-09-24T21:20:25.184277Z"
    }
   },
   "outputs": [
    {
     "name": "stderr",
     "output_type": "stream",
     "text": [
      "2025-09-24 16:20:00,579 - INFO - detected formats: [<InputFormat.MD: 'md'>]\n"
     ]
    },
    {
     "name": "stderr",
     "output_type": "stream",
     "text": [
      "2025-09-24 16:20:00,580 - INFO - Going to convert document batch...\n"
     ]
    },
    {
     "name": "stderr",
     "output_type": "stream",
     "text": [
      "2025-09-24 16:20:00,580 - INFO - Initializing pipeline for SimplePipeline with options hash 995a146ad601044538e6a923bea22f4e\n"
     ]
    },
    {
     "name": "stderr",
     "output_type": "stream",
     "text": [
      "2025-09-24 16:20:00,770 - INFO - Loading plugin 'docling_defaults'\n"
     ]
    },
    {
     "name": "stderr",
     "output_type": "stream",
     "text": [
      "2025-09-24 16:20:00,771 - WARNING - The plugin langchain_docling will not be loaded because Docling is being executed with allow_external_plugins=false.\n"
     ]
    },
    {
     "name": "stderr",
     "output_type": "stream",
     "text": [
      "2025-09-24 16:20:00,771 - INFO - Registered picture descriptions: ['vlm', 'api']\n"
     ]
    },
    {
     "name": "stderr",
     "output_type": "stream",
     "text": [
      "2025-09-24 16:20:00,771 - INFO - Processing document README.md\n"
     ]
    },
    {
     "name": "stderr",
     "output_type": "stream",
     "text": [
      "2025-09-24 16:20:00,812 - INFO - Finished converting document README.md in 0.23 sec.\n"
     ]
    },
    {
     "name": "stderr",
     "output_type": "stream",
     "text": [
      "2025-09-24 16:20:00,813 - INFO - Converted README.md\n"
     ]
    },
    {
     "name": "stderr",
     "output_type": "stream",
     "text": [
      "2025-09-24 16:20:00,834 - INFO - detected formats: [<InputFormat.PDF: 'pdf'>]\n"
     ]
    },
    {
     "name": "stderr",
     "output_type": "stream",
     "text": [
      "2025-09-24 16:20:00,837 - INFO - Going to convert document batch...\n"
     ]
    },
    {
     "name": "stderr",
     "output_type": "stream",
     "text": [
      "2025-09-24 16:20:00,837 - INFO - Initializing pipeline for StandardPdfPipeline with options hash e647edf348883bed75367b22fbe60347\n"
     ]
    },
    {
     "name": "stderr",
     "output_type": "stream",
     "text": [
      "2025-09-24 16:20:00,844 - INFO - Loading plugin 'docling_defaults'\n"
     ]
    },
    {
     "name": "stderr",
     "output_type": "stream",
     "text": [
      "2025-09-24 16:20:00,846 - WARNING - The plugin langchain_docling will not be loaded because Docling is being executed with allow_external_plugins=false.\n"
     ]
    },
    {
     "name": "stderr",
     "output_type": "stream",
     "text": [
      "2025-09-24 16:20:00,847 - INFO - Registered ocr engines: ['easyocr', 'ocrmac', 'rapidocr', 'tesserocr', 'tesseract']\n"
     ]
    },
    {
     "name": "stderr",
     "output_type": "stream",
     "text": [
      "2025-09-24 16:20:00,945 - INFO - Accelerator device: 'mps'\n"
     ]
    },
    {
     "name": "stderr",
     "output_type": "stream",
     "text": [
      "2025-09-24 16:20:02,969 - INFO - Accelerator device: 'mps'\n"
     ]
    },
    {
     "name": "stderr",
     "output_type": "stream",
     "text": [
      "2025-09-24 16:20:04,016 - INFO - Accelerator device: 'mps'\n"
     ]
    },
    {
     "name": "stderr",
     "output_type": "stream",
     "text": [
      "2025-09-24 16:20:04,386 - INFO - Processing document daily-earnings-dashboard-us.pdf\n"
     ]
    },
    {
     "name": "stderr",
     "output_type": "stream",
     "text": [
      "2025-09-24 16:20:15,296 - INFO - Finished converting document daily-earnings-dashboard-us.pdf in 14.48 sec.\n"
     ]
    },
    {
     "name": "stderr",
     "output_type": "stream",
     "text": [
      "2025-09-24 16:20:15,296 - INFO - Converted daily-earnings-dashboard-us.pdf\n"
     ]
    },
    {
     "name": "stderr",
     "output_type": "stream",
     "text": [
      "2025-09-24 16:20:15,986 - INFO - detected formats: [<InputFormat.PPTX: 'pptx'>]\n"
     ]
    },
    {
     "name": "stderr",
     "output_type": "stream",
     "text": [
      "2025-09-24 16:20:16,003 - INFO - Going to convert document batch...\n"
     ]
    },
    {
     "name": "stderr",
     "output_type": "stream",
     "text": [
      "2025-09-24 16:20:16,003 - INFO - Processing document NVIDIA-Corporation-2023-08-02.pptx\n"
     ]
    },
    {
     "name": "stderr",
     "output_type": "stream",
     "text": [
      "2025-09-24 16:20:16,581 - INFO - Finished converting document NVIDIA-Corporation-2023-08-02.pptx in 1.29 sec.\n"
     ]
    },
    {
     "name": "stderr",
     "output_type": "stream",
     "text": [
      "2025-09-24 16:20:16,584 - INFO - Converted NVIDIA-Corporation-2023-08-02.pptx\n"
     ]
    },
    {
     "name": "stderr",
     "output_type": "stream",
     "text": [
      "2025-09-24 16:20:18,201 - INFO - detected formats: [<InputFormat.PDF: 'pdf'>]\n"
     ]
    },
    {
     "name": "stderr",
     "output_type": "stream",
     "text": [
      "2025-09-24 16:20:18,208 - INFO - Going to convert document batch...\n"
     ]
    },
    {
     "name": "stderr",
     "output_type": "stream",
     "text": [
      "2025-09-24 16:20:18,209 - INFO - Processing document AR_2020_WEB2.pdf\n"
     ]
    },
    {
     "name": "stderr",
     "output_type": "stream",
     "text": [
      "2025-09-24 16:20:25,044 - INFO - Finished converting document AR_2020_WEB2.pdf in 8.46 sec.\n"
     ]
    },
    {
     "name": "stderr",
     "output_type": "stream",
     "text": [
      "2025-09-24 16:20:25,044 - INFO - Converted AR_2020_WEB2.pdf\n"
     ]
    },
    {
     "name": "stderr",
     "output_type": "stream",
     "text": [
      "2025-09-24 16:20:25,182 - INFO - All conversions complete. Check the 'parsed' folder.\n"
     ]
    }
   ],
   "source": [
    "import json\n",
    "import yaml\n",
    "import logging\n",
    "from pathlib import Path\n",
    "from docling.backend.pypdfium2_backend import PyPdfiumDocumentBackend\n",
    "from docling.datamodel.base_models import InputFormat\n",
    "from docling.document_converter import DocumentConverter, PdfFormatOption, WordFormatOption\n",
    "from docling.pipeline.simple_pipeline import SimplePipeline\n",
    "from docling.pipeline.standard_pdf_pipeline import StandardPdfPipeline\n",
    "\n",
    "# Setup logging\n",
    "logging.basicConfig(level=logging.INFO)\n",
    "logger = logging.getLogger(__name__)\n",
    "\n",
    "# Define the files to convert\n",
    "paths = [\n",
    "    Path(\"README.md\"),\n",
    "    Path(\"tests/daily-earnings-dashboard-us.pdf\"),\n",
    "    Path(\"tests/NVIDIA-Corporation-2023-08-02.pptx\"),\n",
    "    Path(\"tests/AR_2020_WEB2.pdf\"),\n",
    "]\n",
    "\n",
    "# Ensure output directory exists\n",
    "output_dir = Path(\"parsed\")\n",
    "output_dir.mkdir(exist_ok=True)\n",
    "\n",
    "# Configure Docling converter\n",
    "converter = DocumentConverter(\n",
    "    allowed_formats=[\n",
    "        InputFormat.PDF,\n",
    "        InputFormat.IMAGE,\n",
    "        InputFormat.DOCX,\n",
    "        InputFormat.HTML,\n",
    "        InputFormat.PPTX,\n",
    "        InputFormat.ASCIIDOC,\n",
    "        InputFormat.MD,\n",
    "    ],\n",
    "    format_options={\n",
    "        InputFormat.PDF: PdfFormatOption(\n",
    "            pipeline_cls=StandardPdfPipeline,\n",
    "            backend=PyPdfiumDocumentBackend\n",
    "        ),\n",
    "        InputFormat.DOCX: WordFormatOption(\n",
    "            pipeline_cls=SimplePipeline\n",
    "        ),\n",
    "    },\n",
    ")\n",
    "\n",
    "# Run conversions\n",
    "results = converter.convert_all(paths)\n",
    "\n",
    "# Export each result\n",
    "for res in results:\n",
    "    stem = res.input.file.stem\n",
    "    logger.info(f\"Converted {res.input.file.name}\")\n",
    "    # Markdown\n",
    "    (output_dir / f\"{stem}.md\").write_text(res.document.export_to_markdown())\n",
    "    # JSON\n",
    "    (output_dir / f\"{stem}.json\").write_text(\n",
    "        json.dumps(res.document.export_to_dict(), indent=2)\n",
    "    )\n",
    "    # YAML\n",
    "    (output_dir / f\"{stem}.yaml\").write_text(\n",
    "        yaml.safe_dump(res.document.export_to_dict(), sort_keys=False)\n",
    "    )\n",
    "\n",
    "logger.info(\"All conversions complete. Check the 'parsed' folder.\")"
   ]
  }
 ],
 "metadata": {
  "kernelspec": {
   "display_name": "Python 3",
   "language": "python",
   "name": "python3"
  },
  "language_info": {
   "codemirror_mode": {
    "name": "ipython",
    "version": 3
   },
   "file_extension": ".py",
   "mimetype": "text/x-python",
   "name": "python",
   "nbconvert_exporter": "python",
   "pygments_lexer": "ipython3",
   "version": "3.13.7"
  }
 },
 "nbformat": 4,
 "nbformat_minor": 5
}
