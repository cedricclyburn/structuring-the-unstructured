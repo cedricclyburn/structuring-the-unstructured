{
 "cells": [
  {
   "cell_type": "markdown",
   "id": "4f44f600",
   "metadata": {},
   "source": [
    "# RAG with LangChain"
   ]
  },
  {
   "cell_type": "markdown",
   "id": "8871c145",
   "metadata": {},
   "source": [
    "This example leverages the LangChain Docling integration, along with a Milvus vector store, as well as sentence-transformers embeddings.\n",
    "\n",
    "The `DoclingLoader` component enables you to:\n",
    "- use various document types in your LLM applications with ease and speed, and\n",
    "- leverage Docling's rich format for advanced, document-native grounding.\n"
   ]
  },
  {
   "cell_type": "markdown",
   "id": "1a8169ed",
   "metadata": {},
   "source": [
    "## Setup"
   ]
  },
  {
   "cell_type": "code",
   "execution_count": 1,
   "id": "64bf2931",
   "metadata": {},
   "outputs": [
    {
     "name": "stdout",
     "output_type": "stream",
     "text": [
      "\n",
      "\u001b[1m[\u001b[0m\u001b[34;49mnotice\u001b[0m\u001b[1;39;49m]\u001b[0m\u001b[39;49m A new release of pip is available: \u001b[0m\u001b[31;49m24.3.1\u001b[0m\u001b[39;49m -> \u001b[0m\u001b[32;49m25.0.1\u001b[0m\n",
      "\u001b[1m[\u001b[0m\u001b[34;49mnotice\u001b[0m\u001b[1;39;49m]\u001b[0m\u001b[39;49m To update, run: \u001b[0m\u001b[32;49mpip install --upgrade pip\u001b[0m\n"
     ]
    }
   ],
   "source": [
    "!pip install -q --progress-bar off --no-warn-conflicts langchain-docling langchain-core langchain-huggingface langchain_milvus langchain python-dotenv"
   ]
  },
  {
   "cell_type": "markdown",
   "id": "83b48cc3",
   "metadata": {},
   "source": [
    "### Environment and Imports"
   ]
  },
  {
   "cell_type": "code",
   "execution_count": null,
   "id": "9d93b80a",
   "metadata": {},
   "outputs": [
    {
     "name": "stderr",
     "output_type": "stream",
     "text": [
      "/Library/Frameworks/Python.framework/Versions/3.11/lib/python3.11/site-packages/tqdm/auto.py:21: TqdmWarning: IProgress not found. Please update jupyter and ipywidgets. See https://ipywidgets.readthedocs.io/en/stable/user_install.html\n",
      "  from .autonotebook import tqdm as notebook_tqdm\n"
     ]
    }
   ],
   "source": [
    "import os\n",
    "from pathlib import Path\n",
    "from tempfile import mkdtemp\n",
    "\n",
    "from dotenv import load_dotenv\n",
    "from langchain_core.prompts import PromptTemplate\n",
    "from langchain_docling.loader import ExportType\n",
    "\n",
    "def _get_env_from_colab_or_os(key):\n",
    "    try:\n",
    "        from google.colab import userdata\n",
    "        try:\n",
    "            return userdata.get(key)\n",
    "        except userdata.SecretNotFoundError:\n",
    "            pass\n",
    "    except ImportError:\n",
    "        pass\n",
    "    return os.getenv(key)\n",
    "\n",
    "load_dotenv()\n",
    "\n",
    "# Avoid tokenizer parallelism warnings\n",
    "os.environ['TOKENIZERS_PARALLELISM'] = 'false'\n",
    "\n",
    "# Configuration variables\n",
    "HF_TOKEN = _get_env_from_colab_or_os('HF_TOKEN')\n",
    "FILE_PATH = ['tests/AR_2020_WEB2.pdf']\n",
    "EMBED_MODEL_ID = 'sentence-transformers/all-MiniLM-L6-v2'\n",
    "GEN_MODEL_ID = 'google/flan-t5-base'  # Lightweight, reliable model for Q&A\n",
    "EXPORT_TYPE = ExportType.DOC_CHUNKS\n",
    "QUESTION = 'What are the financials for donated food?'\n",
    "PROMPT = PromptTemplate.from_template(\n",
    "    \"\"\"Context information is below.\n",
    "---------------------\n",
    "{context}\n",
    "---------------------\n",
    "Given the context information and not prior knowledge, answer the query.\n",
    "Query: {input}\n",
    "Answer:\n",
    "\"\"\",)\n",
    "TOP_K = 3\n",
    "MILVUS_URI = str(Path(mkdtemp()) / 'docling.db')\n"
   ]
  },
  {
   "cell_type": "markdown",
   "id": "64f461ae",
   "metadata": {},
   "source": [
    "## Document Loading"
   ]
  },
  {
   "cell_type": "code",
   "execution_count": 3,
   "id": "9b1fac53",
   "metadata": {},
   "outputs": [
    {
     "name": "stderr",
     "output_type": "stream",
     "text": [
      "Token indices sequence length is longer than the specified maximum sequence length for this model (681 > 512). Running this sequence through the model will result in indexing errors\n"
     ]
    }
   ],
   "source": [
    "from langchain_docling import DoclingLoader\n",
    "from docling.chunking import HybridChunker\n",
    "\n",
    "loader = DoclingLoader(\n",
    "    file_path=FILE_PATH,\n",
    "    export_type=EXPORT_TYPE,\n",
    "    chunker=HybridChunker(tokenizer=EMBED_MODEL_ID),\n",
    ")\n",
    "\n",
    "docs = loader.load()"
   ]
  },
  {
   "cell_type": "markdown",
   "id": "6d76ab48",
   "metadata": {},
   "source": [
    "## Determining the Splits"
   ]
  },
  {
   "cell_type": "code",
   "execution_count": 4,
   "id": "888a6456",
   "metadata": {},
   "outputs": [],
   "source": [
    "if EXPORT_TYPE == ExportType.DOC_CHUNKS:\n",
    "    splits = docs\n",
    "elif EXPORT_TYPE == ExportType.MARKDOWN:\n",
    "    from langchain_text_splitters import MarkdownHeaderTextSplitter\n",
    "\n",
    "    splitter = MarkdownHeaderTextSplitter(\n",
    "        headers_to_split_on=[\n",
    "            ('#', 'Header_1'),\n",
    "            ('##', 'Header_2'),\n",
    "            ('###', 'Header_3'),\n",
    "        ],\n",
    "    )\n",
    "    splits = [split for doc in docs for split in splitter.split_text(doc.page_content)]\n",
    "else:\n",
    "    raise ValueError(f'Unexpected export type: {EXPORT_TYPE}')"
   ]
  },
  {
   "cell_type": "markdown",
   "id": "86ed426c",
   "metadata": {},
   "source": [
    "### Inspecting Sample Splits"
   ]
  },
  {
   "cell_type": "code",
   "execution_count": 5,
   "id": "1878ba55",
   "metadata": {},
   "outputs": [
    {
     "name": "stdout",
     "output_type": "stream",
     "text": [
      "- d.page_content='bridging the gap between poverty and prosperity'\n",
      "- d.page_content='A message from Co-Founder, President, and CEO, David Kieser\\nNo one could have predicted the events of 2020. The global COVID-19 pandemic created a dynamic year. With the help of volunteers, donors, staff, and most importantly, the blessings of God, Midwest Food Bank responded nimbly to the changing landscape.\\nAll  MFB  locations  remained  open  and  responsive  to  the  need  of  our nonprofit partners. We enacted safety protocols and reduced volunteer numbers  to  maintain  social  distancing  guidelines.  To  allow  partner agencies to receive food from MFB safely, we altered our distribution model.  Community,  business,  and  donor  support  funded  operations and helped with food purchases. More details on our response to the pandemic are on page 14.'\n",
      "- d.page_content='Noteworthy in 2020:\\n• MFB distributed a record amount of food, 37% more than in 2019.\\n· In 2020, we sent a record number of family food boxes in Disaster Relief semi loads, nearly six times more than the previous year.\\n·  We  received  record  levels  of  support  from  both  financial  and food donors.\\n· While maintaining and growing our roots and existing locations, MFB  launched  two  new  domestic  divisions,  Pennsylvania  and New England.\\nWe are humbled and thankful. Moving forward, we continue to follow the leading of the Lord as we live out our mission.\\nIn His service, David Kieser\\nThe Lord is good, a refuge in times of trouble; He cares for those who trust in him. NAHUM 1:7'\n",
      "...\n"
     ]
    }
   ],
   "source": [
    "for d in splits[:3]:\n",
    "    print(f\"- {d.page_content=}\")\n",
    "print('...')"
   ]
  },
  {
   "cell_type": "markdown",
   "id": "b031bd0c",
   "metadata": {},
   "source": [
    "## Ingestion"
   ]
  },
  {
   "cell_type": "code",
   "execution_count": 6,
   "id": "f3df1cd6",
   "metadata": {},
   "outputs": [],
   "source": [
    "import json\n",
    "from pathlib import Path\n",
    "from tempfile import mkdtemp\n",
    "\n",
    "from langchain_huggingface.embeddings import HuggingFaceEmbeddings\n",
    "from langchain_milvus import Milvus\n",
    "\n",
    "embedding = HuggingFaceEmbeddings(model_name=EMBED_MODEL_ID)\n",
    "\n",
    "milvus_uri = str(Path(mkdtemp()) / 'docling.db')\n",
    "vectorstore = Milvus.from_documents(\n",
    "    documents=splits,\n",
    "    embedding=embedding,\n",
    "    collection_name='docling_demo',\n",
    "    connection_args={'uri': milvus_uri},\n",
    "    index_params={'index_type': 'FLAT'},\n",
    "    drop_old=True,\n",
    ")"
   ]
  },
  {
   "cell_type": "markdown",
   "id": "88442df3",
   "metadata": {},
   "source": [
    "## RAG"
   ]
  },
  {
   "cell_type": "code",
   "execution_count": null,
   "id": "fac84a89",
   "metadata": {},
   "outputs": [
    {
     "name": "stdout",
     "output_type": "stream",
     "text": [
      "The token has not been saved to the git credentials helper. Pass `add_to_git_credential=True` in this function directly or `--add-to-git-credential` if using via `huggingface-cli` if you want to set the git credential as well.\n",
      "Token is valid (permission: write).\n",
      "Your token has been saved to /Users/cclyburn/.cache/huggingface/token\n",
      "Login successful\n",
      "Question:\n",
      "What are the financials for donated food?\n",
      "\n",
      "Answer:\n",
      "YEARS ENDING DECEMBER 31, 2018, 2019 AND 2020\n",
      "Donated food, vehicles, equipment and services, 2018 = $229,928,875. Donated food, vehicles, equipment and services, 2019 = $270,649,371. Donated food, ve...\n",
      "\n",
      "Source 1:\n",
      "  text: \"YEARS ENDING DECEMBER 31, 2018, 2019 AND 2020\\nDonated food, vehicles, equipment and services, 2018 = $229,928,875. Donated food, vehicles, equipment and services, 2019 = $270,649,371. Donated food, vehicles, equipment and services, 2020* = $397,204,944. General public contributions and grants, 2018 = $7,436,910. General public contributions and gra...\"\n",
      "  dl_meta: {'schema_name': 'docling_core.transforms.chunker.DocMeta', 'version': '1.0.0', 'doc_items': [{'self_ref': '#/tables/1', 'parent': {'$ref': '#/body'}, 'children': [], 'content_layer': 'body', 'label': 'table', 'prov': [{'page_no': 7, 'bbox': {'l': 55.68883514404297, 't': 586.8850402832031, 'r': 449.0282897949219, 'b': 293.2377624511719, 'coord_origin': 'BOTTOMLEFT'}, 'charspan': [0, 0]}]}], 'headings': ['YEARS ENDING DECEMBER 31, 2018, 2019 AND 2020'], 'origin': {'mimetype': 'application/pdf', 'binary_hash': 7924797959267012548, 'filename': 'AR_2020_WEB2.pdf'}}\n",
      "  source: tests/AR_2020_WEB2.pdf\n",
      "\n",
      "Source 2:\n",
      "  text: \"YEARS ENDING DECEMBER 31, 2018, 2019 AND 2020\\n$16,416,429. Food Inventory, 2020* = $33,284,514. Cash, buildings (net of debt), equipment, other, 2018 = $15,066,135. Cash, buildings (net of debt), equipment, other, 2019 = $19, 297,314. Cash, buildings (net of debt), equipment, other, 2020* = $24,333,245. Total net assets, 2018 = $34,672,471. Total n...\"\n",
      "  dl_meta: {'schema_name': 'docling_core.transforms.chunker.DocMeta', 'version': '1.0.0', 'doc_items': [{'self_ref': '#/tables/1', 'parent': {'$ref': '#/body'}, 'children': [], 'content_layer': 'body', 'label': 'table', 'prov': [{'page_no': 7, 'bbox': {'l': 55.68883514404297, 't': 586.8850402832031, 'r': 449.0282897949219, 'b': 293.2377624511719, 'coord_origin': 'BOTTOMLEFT'}, 'charspan': [0, 0]}]}, {'self_ref': '#/texts/183', 'parent': {'$ref': '#/body'}, 'children': [], 'content_layer': 'body', 'label': 'text', 'prov': [{'page_no': 7, 'bbox': {'l': 177.12, 't': 275.78, 'r': 451.451, 'b': 253.04499999999996, 'coord_origin': 'BOTTOMLEFT'}, 'charspan': [0, 320]}]}, {'self_ref': '#/texts/191', 'parent': {'$ref': '#/body'}, 'children': [], 'content_layer': 'body', 'label': 'text', 'prov': [{'page_no': 7, 'bbox': {'l': 193.883, 't': 105.46000000000004, 'r': 426.947, 'b': 82.13400000000001, 'coord_origin': 'BOTTOMLEFT'}, 'charspan': [0, 110]}]}], 'headings': ['YEARS ENDING DECEMBER 31, 2018, 2019 AND 2020'], 'origin': {'mimetype': 'application/pdf', 'binary_hash': 7924797959267012548, 'filename': 'AR_2020_WEB2.pdf'}}\n",
      "  source: tests/AR_2020_WEB2.pdf\n",
      "\n",
      "Source 3:\n",
      "  text: \"SERVING THOSE IN NEED\\nWe recognize and adapt to our agencies (food pantries, schools, soup kitchens, shelters) needs, providing them resources  to  help  them  best  solve  food  insecurity  for individuals and families.\"\n",
      "  dl_meta: {'schema_name': 'docling_core.transforms.chunker.DocMeta', 'version': '1.0.0', 'doc_items': [{'self_ref': '#/texts/25', 'parent': {'$ref': '#/body'}, 'children': [], 'content_layer': 'body', 'label': 'text', 'prov': [{'page_no': 4, 'bbox': {'l': 125.56, 't': 463.86, 'r': 346.865, 'b': 412.534, 'coord_origin': 'BOTTOMLEFT'}, 'charspan': [0, 198]}]}], 'headings': ['SERVING THOSE IN NEED'], 'origin': {'mimetype': 'application/pdf', 'binary_hash': 7924797959267012548, 'filename': 'AR_2020_WEB2.pdf'}}\n",
      "  source: tests/AR_2020_WEB2.pdf\n"
     ]
    }
   ],
   "source": [
    "from langchain.chains import create_retrieval_chain\n",
    "from langchain.chains.combine_documents import create_stuff_documents_chain\n",
    "from langchain_huggingface import HuggingFaceEndpoint\n",
    "\n",
    "retriever = vectorstore.as_retriever(search_kwargs={'k': TOP_K})\n",
    "llm = HuggingFaceEndpoint(\n",
    "    repo_id=GEN_MODEL_ID,\n",
    "    temperature=0.5,\n",
    "    max_new_tokens=512,\n",
    "    huggingfacehub_api_token=HF_TOKEN,\n",
    ")\n",
    "\n",
    "def clip_text(text, threshold=100):\n",
    "    return f\"{text[:threshold]}...\" if len(text) > threshold else text\n",
    "\n",
    "question_answer_chain = create_stuff_documents_chain(llm, PROMPT)\n",
    "rag_chain = create_retrieval_chain(retriever, question_answer_chain)\n",
    "resp_dict = rag_chain.invoke({'input': QUESTION})\n",
    "\n",
    "clipped_answer = clip_text(resp_dict['answer'], threshold=200)\n",
    "print(f\"Question:\\n{resp_dict['input']}\\n\\nAnswer:\\n{clipped_answer}\")\n",
    "for i, doc in enumerate(resp_dict['context']):\n",
    "    print(f\"\\nSource {i + 1}:\")\n",
    "    print(f\"  text: {json.dumps(clip_text(doc.page_content, threshold=350))}\")\n",
    "    for key, val in doc.metadata.items():\n",
    "        if key != 'pk':\n",
    "            clipped_val = clip_text(val) if isinstance(val, str) else val\n",
    "            print(f\"  {key}: {clipped_val}\")"
   ]
  }
 ],
 "metadata": {
  "kernelspec": {
   "display_name": "Python 3",
   "language": "python",
   "name": "python3"
  },
  "language_info": {
   "codemirror_mode": {
    "name": "ipython",
    "version": 3
   },
   "file_extension": ".py",
   "mimetype": "text/x-python",
   "name": "python",
   "nbconvert_exporter": "python",
   "pygments_lexer": "ipython3",
   "version": "3.11.9"
  }
 },
 "nbformat": 4,
 "nbformat_minor": 5
}
